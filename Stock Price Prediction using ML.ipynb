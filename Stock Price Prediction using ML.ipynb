{
 "cells": [
  {
   "cell_type": "markdown",
   "metadata": {},
   "source": [
    "# Predicitng Zoom Stock Price \n",
    "\n",
    "In this Data Science Project we will create a Linear Regression model and a Decision Tree Regression Model to Predict Zoom's Stock Price using Machine Learning and Python."
   ]
  },
  {
   "cell_type": "code",
   "execution_count": 1,
   "metadata": {},
   "outputs": [
    {
     "data": {
      "text/html": [
       "<div>\n",
       "<style scoped>\n",
       "    .dataframe tbody tr th:only-of-type {\n",
       "        vertical-align: middle;\n",
       "    }\n",
       "\n",
       "    .dataframe tbody tr th {\n",
       "        vertical-align: top;\n",
       "    }\n",
       "\n",
       "    .dataframe thead th {\n",
       "        text-align: right;\n",
       "    }\n",
       "</style>\n",
       "<table border=\"1\" class=\"dataframe\">\n",
       "  <thead>\n",
       "    <tr style=\"text-align: right;\">\n",
       "      <th></th>\n",
       "      <th>Date</th>\n",
       "      <th>Open</th>\n",
       "      <th>High</th>\n",
       "      <th>Low</th>\n",
       "      <th>Close</th>\n",
       "      <th>Adj Close</th>\n",
       "      <th>Volume</th>\n",
       "    </tr>\n",
       "  </thead>\n",
       "  <tbody>\n",
       "    <tr>\n",
       "      <th>0</th>\n",
       "      <td>2019-11-18</td>\n",
       "      <td>70.470001</td>\n",
       "      <td>71.139999</td>\n",
       "      <td>68.779999</td>\n",
       "      <td>70.080002</td>\n",
       "      <td>70.080002</td>\n",
       "      <td>1676000</td>\n",
       "    </tr>\n",
       "    <tr>\n",
       "      <th>1</th>\n",
       "      <td>2019-11-19</td>\n",
       "      <td>70.190002</td>\n",
       "      <td>70.332001</td>\n",
       "      <td>68.190002</td>\n",
       "      <td>69.639999</td>\n",
       "      <td>69.639999</td>\n",
       "      <td>1704700</td>\n",
       "    </tr>\n",
       "    <tr>\n",
       "      <th>2</th>\n",
       "      <td>2019-11-20</td>\n",
       "      <td>69.250000</td>\n",
       "      <td>71.709999</td>\n",
       "      <td>68.550003</td>\n",
       "      <td>70.989998</td>\n",
       "      <td>70.989998</td>\n",
       "      <td>2780700</td>\n",
       "    </tr>\n",
       "    <tr>\n",
       "      <th>3</th>\n",
       "      <td>2019-11-21</td>\n",
       "      <td>71.500000</td>\n",
       "      <td>71.949997</td>\n",
       "      <td>69.580002</td>\n",
       "      <td>69.919998</td>\n",
       "      <td>69.919998</td>\n",
       "      <td>1127000</td>\n",
       "    </tr>\n",
       "    <tr>\n",
       "      <th>4</th>\n",
       "      <td>2019-11-22</td>\n",
       "      <td>72.000000</td>\n",
       "      <td>74.000000</td>\n",
       "      <td>71.150002</td>\n",
       "      <td>73.160004</td>\n",
       "      <td>73.160004</td>\n",
       "      <td>3051900</td>\n",
       "    </tr>\n",
       "  </tbody>\n",
       "</table>\n",
       "</div>"
      ],
      "text/plain": [
       "         Date       Open       High        Low      Close  Adj Close   Volume\n",
       "0  2019-11-18  70.470001  71.139999  68.779999  70.080002  70.080002  1676000\n",
       "1  2019-11-19  70.190002  70.332001  68.190002  69.639999  69.639999  1704700\n",
       "2  2019-11-20  69.250000  71.709999  68.550003  70.989998  70.989998  2780700\n",
       "3  2019-11-21  71.500000  71.949997  69.580002  69.919998  69.919998  1127000\n",
       "4  2019-11-22  72.000000  74.000000  71.150002  73.160004  73.160004  3051900"
      ]
     },
     "execution_count": 1,
     "metadata": {},
     "output_type": "execute_result"
    }
   ],
   "source": [
    "import pandas as pd\n",
    "zoom = pd.read_csv(r\"C:\\Users\\cheml\\Documents\\Skul\\Zoom Stock Price Prediction\\ZM.csv\")\n",
    "zoom.head()"
   ]
  },
  {
   "cell_type": "code",
   "execution_count": 2,
   "metadata": {},
   "outputs": [
    {
     "data": {
      "text/plain": [
       "(251, 7)"
      ]
     },
     "execution_count": 2,
     "metadata": {},
     "output_type": "execute_result"
    }
   ],
   "source": [
    "zoom.shape"
   ]
  },
  {
   "cell_type": "markdown",
   "metadata": {},
   "source": [
    "## Visualization of Close Price data"
   ]
  },
  {
   "cell_type": "code",
   "execution_count": 4,
   "metadata": {},
   "outputs": [
    {
     "data": {
      "image/png": "[encoded data removed]",
      "text/plain": [
       "<Figure size 720x288 with 1 Axes>"
      ]
     },
     "metadata": {},
     "output_type": "display_data"
    }
   ],
   "source": [
    "import matplotlib.pyplot as plt\n",
    "import seaborn as sns\n",
    "sns.set()\n",
    "plt.figure(figsize=(10, 4))\n",
    "plt.title(\"Zoom's Stock Price\")\n",
    "plt.xlabel(\"Days\")\n",
    "plt.ylabel(\"Close Price USD ($)\")\n",
    "plt.plot(zoom[\"Close\"])\n",
    "plt.show()"
   ]
  },
  {
   "cell_type": "code",
   "execution_count": 6,
   "metadata": {},
   "outputs": [
    {
     "name": "stdout",
     "output_type": "stream",
     "text": [
      "       Close\n",
      "0  70.080002\n",
      "1  69.639999\n",
      "2  70.989998\n",
      "3  69.919998\n",
      "4  73.160004\n"
     ]
    }
   ],
   "source": [
    "# Close Price\n",
    "\n",
    "zoom = zoom[[\"Close\"]]\n",
    "print(zoom.head())"
   ]
  },
  {
   "cell_type": "code",
   "execution_count": 8,
   "metadata": {},
   "outputs": [
    {
     "name": "stdout",
     "output_type": "stream",
     "text": [
      "       Close  Prediction\n",
      "0  70.080002   66.459999\n",
      "1  69.639999   67.449997\n",
      "2  70.989998   66.639999\n",
      "3  69.919998   66.790001\n",
      "4  73.160004   68.040001\n",
      "          Close  Prediction\n",
      "246  413.239990         NaN\n",
      "247  376.010010         NaN\n",
      "248  413.339996         NaN\n",
      "249  428.640015         NaN\n",
      "250  403.579987         NaN\n"
     ]
    },
    {
     "name": "stderr",
     "output_type": "stream",
     "text": [
      "C:\\ProgramData\\Anaconda3\\lib\\site-packages\\ipykernel_launcher.py:7: SettingWithCopyWarning: \n",
      "A value is trying to be set on a copy of a slice from a DataFrame.\n",
      "Try using .loc[row_indexer,col_indexer] = value instead\n",
      "\n",
      "See the caveats in the documentation: https://pandas.pydata.org/pandas-docs/stable/user_guide/indexing.html#returning-a-view-versus-a-copy\n",
      "  import sys\n"
     ]
    }
   ],
   "source": [
    "# Creating a variable to predict ‘X’ days in the future:\n",
    "\n",
    "futureDays = 25\n",
    "\n",
    "# Create a new target column shifted ‘X’ units/days up:\n",
    "\n",
    "zoom[\"Prediction\"] = zoom[[\"Close\"]].shift(-futureDays)\n",
    "print(zoom.head())\n",
    "print(zoom.tail())"
   ]
  },
  {
   "cell_type": "code",
   "execution_count": 9,
   "metadata": {},
   "outputs": [
    {
     "name": "stdout",
     "output_type": "stream",
     "text": [
      "[[ 70.080002]\n",
      " [ 69.639999]\n",
      " [ 70.989998]\n",
      " [ 69.919998]\n",
      " [ 73.160004]\n",
      " [ 74.550003]\n",
      " [ 75.160004]\n",
      " [ 74.080002]\n",
      " [ 74.5     ]\n",
      " [ 68.93    ]\n",
      " [ 70.019997]\n",
      " [ 69.959999]\n",
      " [ 69.669998]\n",
      " [ 62.740002]\n",
      " [ 65.940002]\n",
      " [ 64.57    ]\n",
      " [ 63.52    ]\n",
      " [ 62.490002]\n",
      " [ 63.540001]\n",
      " [ 66.349998]\n",
      " [ 66.169998]\n",
      " [ 67.599998]\n",
      " [ 68.18    ]\n",
      " [ 66.93    ]\n",
      " [ 66.150002]\n",
      " [ 66.459999]\n",
      " [ 67.449997]\n",
      " [ 66.639999]\n",
      " [ 66.790001]\n",
      " [ 68.040001]\n",
      " [ 68.720001]\n",
      " [ 67.279999]\n",
      " [ 70.32    ]\n",
      " [ 71.900002]\n",
      " [ 72.550003]\n",
      " [ 72.620003]\n",
      " [ 73.089996]\n",
      " [ 74.029999]\n",
      " [ 73.160004]\n",
      " [ 76.940002]\n",
      " [ 76.110001]\n",
      " [ 75.559998]\n",
      " [ 76.730003]\n",
      " [ 75.540001]\n",
      " [ 74.470001]\n",
      " [ 73.      ]\n",
      " [ 70.440002]\n",
      " [ 71.510002]\n",
      " [ 73.580002]\n",
      " [ 74.540001]\n",
      " [ 76.300003]\n",
      " [ 87.660004]\n",
      " [ 85.790001]\n",
      " [ 86.989998]\n",
      " [ 87.260002]\n",
      " [ 88.639999]\n",
      " [ 89.669998]\n",
      " [ 88.68    ]\n",
      " [ 88.279999]\n",
      " [ 89.860001]\n",
      " [ 90.949997]\n",
      " [ 96.389999]\n",
      " [103.93    ]\n",
      " [105.290001]\n",
      " [101.760002]\n",
      " [105.010002]\n",
      " [107.080002]\n",
      " [106.879997]\n",
      " [113.550003]\n",
      " [105.      ]\n",
      " [113.110001]\n",
      " [117.470001]\n",
      " [116.800003]\n",
      " [125.      ]\n",
      " [114.32    ]\n",
      " [113.75    ]\n",
      " [108.489998]\n",
      " [110.300003]\n",
      " [109.470001]\n",
      " [107.470001]\n",
      " [107.860001]\n",
      " [111.099998]\n",
      " [118.709999]\n",
      " [123.769997]\n",
      " [130.550003]\n",
      " [159.559998]\n",
      " [135.179993]\n",
      " [138.110001]\n",
      " [141.149994]\n",
      " [151.699997]\n",
      " [150.880005]\n",
      " [146.119995]\n",
      " [137.      ]\n",
      " [121.93    ]\n",
      " [128.199997]\n",
      " [122.940002]\n",
      " [113.75    ]\n",
      " [117.809998]\n",
      " [124.510002]\n",
      " [135.919998]\n",
      " [141.889999]\n",
      " [151.559998]\n",
      " [150.259995]\n",
      " [150.059998]\n",
      " [148.990005]\n",
      " [143.270004]\n",
      " [150.25    ]\n",
      " [169.089996]\n",
      " [158.800003]\n",
      " [164.600006]\n",
      " [156.720001]\n",
      " [146.479996]\n",
      " [135.169998]\n",
      " [138.559998]\n",
      " [143.440002]\n",
      " [144.820007]\n",
      " [149.589996]\n",
      " [157.800003]\n",
      " [155.399994]\n",
      " [166.479996]\n",
      " [161.039993]\n",
      " [167.139999]\n",
      " [167.910004]\n",
      " [174.830002]\n",
      " [164.690002]\n",
      " [173.679993]\n",
      " [175.479996]\n",
      " [172.029999]\n",
      " [171.059998]\n",
      " [164.      ]\n",
      " [161.970001]\n",
      " [163.550003]\n",
      " [179.479996]\n",
      " [204.149994]\n",
      " [208.080002]\n",
      " [223.869995]\n",
      " [210.350006]\n",
      " [207.600006]\n",
      " [209.830002]\n",
      " [205.429993]\n",
      " [221.020004]\n",
      " [222.070007]\n",
      " [219.520004]\n",
      " [239.020004]\n",
      " [242.559998]\n",
      " [236.759995]\n",
      " [241.570007]\n",
      " [243.479996]\n",
      " [251.270004]\n",
      " [252.809998]\n",
      " [255.899994]\n",
      " [259.51001 ]\n",
      " [256.799988]\n",
      " [248.559998]\n",
      " [253.539993]\n",
      " [259.130005]\n",
      " [261.73999 ]\n",
      " [261.      ]\n",
      " [262.100006]\n",
      " [266.320007]\n",
      " [269.519989]\n",
      " [275.869995]\n",
      " [260.299988]\n",
      " [260.01001 ]\n",
      " [256.220001]\n",
      " [248.539993]\n",
      " [246.539993]\n",
      " [268.579987]\n",
      " [260.440002]\n",
      " [261.179993]\n",
      " [251.5     ]\n",
      " [246.559998]\n",
      " [252.330002]\n",
      " [252.179993]\n",
      " [252.389999]\n",
      " [250.      ]\n",
      " [253.910004]\n",
      " [268.      ]\n",
      " [267.339996]\n",
      " [272.899994]\n",
      " [268.25    ]\n",
      " [258.730011]\n",
      " [250.      ]\n",
      " [231.039993]\n",
      " [236.720001]\n",
      " [247.25    ]\n",
      " [244.910004]\n",
      " [266.149994]\n",
      " [276.799988]\n",
      " [273.51001 ]\n",
      " [290.690002]\n",
      " [289.679993]\n",
      " [282.279999]\n",
      " [290.440002]\n",
      " [295.269989]\n",
      " [294.679993]\n",
      " [299.269989]\n",
      " [325.100006]\n",
      " [457.690002]\n",
      " [423.559998]\n",
      " [381.320007]\n",
      " [369.890015]\n",
      " [350.880005]\n",
      " [389.649994]\n",
      " [384.480011]\n",
      " [383.      ]\n",
      " [403.51001 ]\n",
      " [410.940002]\n",
      " [408.170013]\n",
      " [413.125   ]\n",
      " [438.730011]\n",
      " [468.470001]\n",
      " [492.600006]\n",
      " [500.529999]\n",
      " [464.980011]\n",
      " [496.5     ]\n",
      " [487.660004]\n",
      " [465.5     ]\n",
      " [470.109985]\n",
      " [482.98999 ]\n",
      " [482.230011]\n",
      " [485.369995]\n",
      " [478.25    ]\n",
      " [480.609985]\n",
      " [478.549988]\n",
      " [492.410004]]\n"
     ]
    }
   ],
   "source": [
    "# To create a feature dataset (x) and convert into a numpy array and remove last ‘x’ rows/days:\n",
    "\n",
    "import numpy as np\n",
    "x = np.array(zoom.drop([\"Prediction\"], 1))[:-futureDays]\n",
    "print(x)"
   ]
  },
  {
   "cell_type": "code",
   "execution_count": 10,
   "metadata": {},
   "outputs": [
    {
     "name": "stdout",
     "output_type": "stream",
     "text": [
      "[ 66.459999  67.449997  66.639999  66.790001  68.040001  68.720001\n",
      "  67.279999  70.32      71.900002  72.550003  72.620003  73.089996\n",
      "  74.029999  73.160004  76.940002  76.110001  75.559998  76.730003\n",
      "  75.540001  74.470001  73.        70.440002  71.510002  73.580002\n",
      "  74.540001  76.300003  87.660004  85.790001  86.989998  87.260002\n",
      "  88.639999  89.669998  88.68      88.279999  89.860001  90.949997\n",
      "  96.389999 103.93     105.290001 101.760002 105.010002 107.080002\n",
      " 106.879997 113.550003 105.       113.110001 117.470001 116.800003\n",
      " 125.       114.32     113.75     108.489998 110.300003 109.470001\n",
      " 107.470001 107.860001 111.099998 118.709999 123.769997 130.550003\n",
      " 159.559998 135.179993 138.110001 141.149994 151.699997 150.880005\n",
      " 146.119995 137.       121.93     128.199997 122.940002 113.75\n",
      " 117.809998 124.510002 135.919998 141.889999 151.559998 150.259995\n",
      " 150.059998 148.990005 143.270004 150.25     169.089996 158.800003\n",
      " 164.600006 156.720001 146.479996 135.169998 138.559998 143.440002\n",
      " 144.820007 149.589996 157.800003 155.399994 166.479996 161.039993\n",
      " 167.139999 167.910004 174.830002 164.690002 173.679993 175.479996\n",
      " 172.029999 171.059998 164.       161.970001 163.550003 179.479996\n",
      " 204.149994 208.080002 223.869995 210.350006 207.600006 209.830002\n",
      " 205.429993 221.020004 222.070007 219.520004 239.020004 242.559998\n",
      " 236.759995 241.570007 243.479996 251.270004 252.809998 255.899994\n",
      " 259.51001  256.799988 248.559998 253.539993 259.130005 261.73999\n",
      " 261.       262.100006 266.320007 269.519989 275.869995 260.299988\n",
      " 260.01001  256.220001 248.539993 246.539993 268.579987 260.440002\n",
      " 261.179993 251.5      246.559998 252.330002 252.179993 252.389999\n",
      " 250.       253.910004 268.       267.339996 272.899994 268.25\n",
      " 258.730011 250.       231.039993 236.720001 247.25     244.910004\n",
      " 266.149994 276.799988 273.51001  290.690002 289.679993 282.279999\n",
      " 290.440002 295.269989 294.679993 299.269989 325.100006 457.690002\n",
      " 423.559998 381.320007 369.890015 350.880005 389.649994 384.480011\n",
      " 383.       403.51001  410.940002 408.170013 413.125    438.730011\n",
      " 468.470001 492.600006 500.529999 464.980011 496.5      487.660004\n",
      " 465.5      470.109985 482.98999  482.230011 485.369995 478.25\n",
      " 480.609985 478.549988 492.410004 491.540009 518.789978 509.25\n",
      " 536.400024 559.       568.340027 537.02002  513.190002 520.539978\n",
      " 511.519989 517.789978 538.98999  516.01001  489.679993 460.910004\n",
      " 453.       451.51001  483.700012 496.730011 500.109985 413.23999\n",
      " 376.01001  413.339996 428.640015 403.579987]\n"
     ]
    }
   ],
   "source": [
    "# To create a target dataset (y) and convert it to a numpy array and get all of the target values except the last ‘x’ rows days:\n",
    "\n",
    "y = np.array(zoom[\"Prediction\"])[:-futureDays]\n",
    "print(y)"
   ]
  },
  {
   "cell_type": "markdown",
   "metadata": {},
   "source": [
    "# Split the data into 75% training and 25% testing"
   ]
  },
  {
   "cell_type": "code",
   "execution_count": 11,
   "metadata": {},
   "outputs": [],
   "source": [
    "from sklearn.model_selection import train_test_split\n",
    "xtrain, xtest, ytrain, ytest = train_test_split(x, y, test_size=0.25)"
   ]
  },
  {
   "cell_type": "markdown",
   "metadata": {},
   "source": [
    "## Creating Models"
   ]
  },
  {
   "cell_type": "code",
   "execution_count": 12,
   "metadata": {},
   "outputs": [],
   "source": [
    "# Creating the decision tree regressor model\n",
    "from sklearn.tree import DecisionTreeRegressor\n",
    "tree = DecisionTreeRegressor().fit(xtrain, ytrain)"
   ]
  },
  {
   "cell_type": "code",
   "execution_count": 15,
   "metadata": {},
   "outputs": [],
   "source": [
    "# creating the Linear Regression model\n",
    "from sklearn.linear_model import LinearRegression\n",
    "linear = LinearRegression().fit(xtrain, ytrain)"
   ]
  },
  {
   "cell_type": "code",
   "execution_count": 16,
   "metadata": {},
   "outputs": [
    {
     "name": "stdout",
     "output_type": "stream",
     "text": [
      "[[369.890015]\n",
      " [350.880005]\n",
      " [389.649994]\n",
      " [384.480011]\n",
      " [383.      ]\n",
      " [403.51001 ]\n",
      " [410.940002]\n",
      " [408.170013]\n",
      " [413.125   ]\n",
      " [438.730011]\n",
      " [468.470001]\n",
      " [492.600006]\n",
      " [500.529999]\n",
      " [464.980011]\n",
      " [496.5     ]\n",
      " [487.660004]\n",
      " [465.5     ]\n",
      " [470.109985]\n",
      " [482.98999 ]\n",
      " [482.230011]\n",
      " [485.369995]\n",
      " [478.25    ]\n",
      " [480.609985]\n",
      " [478.549988]\n",
      " [492.410004]]\n"
     ]
    }
   ],
   "source": [
    "# To get the last ‘x’ rows/days of the feature dataset:\n",
    "\n",
    "xfuture = zoom.drop([\"Prediction\"], 1)[:-futureDays]\n",
    "xfuture = xfuture.tail(futureDays)\n",
    "xfuture = np.array(xfuture)\n",
    "print(xfuture)"
   ]
  },
  {
   "cell_type": "markdown",
   "metadata": {},
   "source": [
    "## Model Tree Prediction"
   ]
  },
  {
   "cell_type": "code",
   "execution_count": 17,
   "metadata": {},
   "outputs": [
    {
     "name": "stdout",
     "output_type": "stream",
     "text": [
      "Decision Tree prediction = [491.540009 518.789978 509.25     536.400024 559.       537.02002\n",
      " 537.02002  537.02002  520.539978 478.549988 517.789978 403.579987\n",
      " 516.01001  489.679993 460.910004 413.23999  451.51001  483.700012\n",
      " 496.730011 500.109985 413.23999  428.640015 500.109985 428.640015\n",
      " 403.579987]\n"
     ]
    }
   ],
   "source": [
    "treePrediction = tree.predict(xfuture)\n",
    "print(\"Decision Tree prediction =\",treePrediction)"
   ]
  },
  {
   "cell_type": "markdown",
   "metadata": {},
   "source": [
    "## Linear Tree Predicition"
   ]
  },
  {
   "cell_type": "code",
   "execution_count": 18,
   "metadata": {},
   "outputs": [
    {
     "name": "stdout",
     "output_type": "stream",
     "text": [
      "Linear regression Prediction = [438.48896742 417.23041422 460.58619751 454.80469825 453.14962849\n",
      " 476.08560479 484.39443158 481.29680256 486.83787565 515.47150018\n",
      " 548.72919756 575.71334933 584.58131827 544.82640434 580.07464267\n",
      " 570.1890337  545.40789871 550.56316225 564.96664081 564.11676993\n",
      " 567.62815772 559.66599502 562.30512391 560.00146622 575.50087351]\n"
     ]
    }
   ],
   "source": [
    "linearPrediction = linear.predict(xfuture)\n",
    "print(\"Linear regression Prediction =\",linearPrediction)"
   ]
  },
  {
   "cell_type": "markdown",
   "metadata": {},
   "source": [
    "## Visualize Decision Tree Prediction"
   ]
  },
  {
   "cell_type": "code",
   "execution_count": 21,
   "metadata": {},
   "outputs": [
    {
     "name": "stderr",
     "output_type": "stream",
     "text": [
      "C:\\ProgramData\\Anaconda3\\lib\\site-packages\\ipykernel_launcher.py:3: SettingWithCopyWarning: \n",
      "A value is trying to be set on a copy of a slice from a DataFrame.\n",
      "Try using .loc[row_indexer,col_indexer] = value instead\n",
      "\n",
      "See the caveats in the documentation: https://pandas.pydata.org/pandas-docs/stable/user_guide/indexing.html#returning-a-view-versus-a-copy\n",
      "  This is separate from the ipykernel package so we can avoid doing imports until\n"
     ]
    },
    {
     "data": {
      "image/png": "[encoded data removed]",
      "text/plain": [
       "<Figure size 720x432 with 1 Axes>"
      ]
     },
     "metadata": {},
     "output_type": "display_data"
    }
   ],
   "source": [
    "predictions = treePrediction\n",
    "valid = zoom[x.shape[0]:]\n",
    "valid[\"Predictions\"] = predictions\n",
    "plt.figure(figsize=(10, 6))\n",
    "plt.title(\"Zoom's Stock Price Prediction Model(Decision Tree Regressor Model)\")\n",
    "plt.xlabel(\"Days\")\n",
    "plt.ylabel(\"Close Price USD ($)\")\n",
    "plt.plot(zoom[\"Close\"])\n",
    "plt.plot(valid[[\"Close\", \"Predictions\"]])\n",
    "plt.legend([\"Original\", \"Valid\", \"Predictions\"])\n",
    "plt.show()"
   ]
  },
  {
   "cell_type": "markdown",
   "metadata": {},
   "source": [
    "## Visualize the Linear Model Predictions"
   ]
  },
  {
   "cell_type": "code",
   "execution_count": 22,
   "metadata": {},
   "outputs": [
    {
     "name": "stderr",
     "output_type": "stream",
     "text": [
      "C:\\ProgramData\\Anaconda3\\lib\\site-packages\\ipykernel_launcher.py:3: SettingWithCopyWarning: \n",
      "A value is trying to be set on a copy of a slice from a DataFrame.\n",
      "Try using .loc[row_indexer,col_indexer] = value instead\n",
      "\n",
      "See the caveats in the documentation: https://pandas.pydata.org/pandas-docs/stable/user_guide/indexing.html#returning-a-view-versus-a-copy\n",
      "  This is separate from the ipykernel package so we can avoid doing imports until\n"
     ]
    },
    {
     "data": {
      "image/png": "[encoded data removed]",
      "text/plain": [
       "<Figure size 720x432 with 1 Axes>"
      ]
     },
     "metadata": {},
     "output_type": "display_data"
    }
   ],
   "source": [
    "predictions = linearPrediction\n",
    "valid = zoom[x.shape[0]:]\n",
    "valid[\"Predictions\"] = predictions\n",
    "plt.figure(figsize=(10, 6))\n",
    "plt.title(\"Zoom's Stock Price Prediction Model(Linear Regression Model)\")\n",
    "plt.xlabel(\"Days\")\n",
    "plt.ylabel(\"Close Price USD ($)\")\n",
    "plt.plot(zoom[\"Close\"])\n",
    "plt.plot(valid[[\"Close\", \"Predictions\"]])\n",
    "plt.legend([\"Original\", \"Valid\", \"Predictions\"])\n",
    "plt.show()"
   ]
  },
  {
   "cell_type": "code",
   "execution_count": null,
   "metadata": {},
   "outputs": [],
   "source": []
  }
 ],
 "metadata": {
  "kernelspec": {
   "display_name": "Python 3",
   "language": "python",
   "name": "python3"
  },
  "language_info": {
   "codemirror_mode": {
    "name": "ipython",
    "version": 3
   },
   "file_extension": ".py",
   "mimetype": "text/x-python",
   "name": "python",
   "nbconvert_exporter": "python",
   "pygments_lexer": "ipython3",
   "version": "3.7.4"
  }
 },
 "nbformat": 4,
 "nbformat_minor": 2
}
